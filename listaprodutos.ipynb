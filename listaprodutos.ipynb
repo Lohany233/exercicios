{
 "cells": [
  {
   "cell_type": "markdown",
   "id": "44412be2-6d24-4e9e-be30-31f7dcd81cf8",
   "metadata": {},
   "source": [
    "# Procura um produto na lista de produtos\n",
    "#### by Lohany Fagundes"
   ]
  },
  {
   "cell_type": "markdown",
   "id": "0b89084a-cf8c-4fda-ba52-5a9062b46587",
   "metadata": {},
   "source": [
    "## Função Principal"
   ]
  },
  {
   "cell_type": "code",
   "execution_count": null,
   "id": "0aceb3c0-250c-4ca6-9943-b5447b1f5092",
   "metadata": {
    "scrolled": true
   },
   "outputs": [],
   "source": [
    "Produtos = { \"Maça\", \"Banana\",  \"Laranja\", \"Uva\", \"Pêra\"}\n",
    "def adicionar_lista (produto, preco):\n",
    "    produto = preco\n",
    "    \n",
    "if  preco_Produtos == {\"Maça: R$1,00\", \"Banana: R$0,50\", \"Laranja: R$0,75\", \"Uva: R$2,00\", \"Pêra: R$1,50\"}:\n",
    "    print(f' - {produto_preco}/n')"
   ]
  },
  {
   "cell_type": "code",
   "execution_count": null,
   "id": "84dcacba-2a4c-4268-88fd-4d4d38b722cb",
   "metadata": {},
   "outputs": [],
   "source": [
    "def printandoProdutos():\n",
    "    print('Esses são todos os produtos dentro da lista de produtos da loja:\\n')\n",
    "    nomesProdutos = \", \".join(lista_de_objetos.keys())\n",
    "    print(f'- {nomesProdutos}\\n')"
   ]
  },
  {
   "cell_type": "code",
   "execution_count": null,
   "id": "48835301-909a-42f5-8d82-05ad562de851",
   "metadata": {
    "scrolled": true
   },
   "outputs": [],
   "source": [
    "def procurandoProdutos() :\n",
    "    produtoEscolhido = input('Qual produto você deseja pesquisar?')\n",
    "    precoEscolhido = lista_de_objetos.get(produtoEscolhido)\n",
    "\n",
    "    print(f'Foi pesquisado: [{produtoEscolhido}]')\n",
    "    if produtoEncontrado:        \n",
    "        print(f'Temos sim o produto {produtoEscolhido}, ele custa {precoEscolhido}\\n')\n",
    "        procurandoProdutos()\n",
    "    else: \n",
    "        print('Esse produtos não temos :(')\n",
    "        printandoProdutos()\n",
    "        procurandoProdutos()"
   ]
  }
 ],
 "metadata": {
  "kernelspec": {
   "display_name": "Python 3 (ipykernel)",
   "language": "python",
   "name": "python3"
  },
  "language_info": {
   "codemirror_mode": {
    "name": "ipython",
    "version": 3
   },
   "file_extension": ".py",
   "mimetype": "text/x-python",
   "name": "python",
   "nbconvert_exporter": "python",
   "pygments_lexer": "ipython3",
   "version": "3.11.2"
  }
 },
 "nbformat": 4,
 "nbformat_minor": 5
}
