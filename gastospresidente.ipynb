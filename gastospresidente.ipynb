{
 "cells": [
  {
   "cell_type": "code",
   "execution_count": 1,
   "id": "6d75b66c-5dcd-4452-90ce-3f9e876856a7",
   "metadata": {},
   "outputs": [
    {
     "data": {
      "text/plain": [
       "[15, 14, 13, 12, 11, 10, 9, 8, 7, 6, 5, 4, 3, 2, 1, 0]"
      ]
     },
     "execution_count": 1,
     "metadata": {},
     "output_type": "execute_result"
    }
   ],
   "source": [
    "a = [0,1,2,3,4,5,6,7,8,9,10,11,12,13,14,15]\n",
    "a [::-1]"
   ]
  },
  {
   "cell_type": "code",
   "execution_count": 2,
   "id": "db501965-6054-4f54-bd7b-7f43b31431df",
   "metadata": {},
   "outputs": [
    {
     "data": {
      "text/plain": [
       "[1, 2, 3, 4, 5, 6, 7, 8, 9]"
      ]
     },
     "execution_count": 2,
     "metadata": {},
     "output_type": "execute_result"
    }
   ],
   "source": [
    "a[1:10]"
   ]
  },
  {
   "cell_type": "code",
   "execution_count": 3,
   "id": "fc693495-f168-46ab-898c-08f6dea1860e",
   "metadata": {},
   "outputs": [
    {
     "data": {
      "text/plain": [
       "[1, 3, 5, 7, 9, 11, 13, 15]"
      ]
     },
     "execution_count": 3,
     "metadata": {},
     "output_type": "execute_result"
    }
   ],
   "source": [
    "a[1::2]"
   ]
  },
  {
   "cell_type": "code",
   "execution_count": 7,
   "id": "67c3a331-e827-464c-95d1-3677c75f8065",
   "metadata": {},
   "outputs": [
    {
     "name": "stdout",
     "output_type": "stream",
     "text": [
      "Lista Reversa: [15, 14, 13, 12, 11, 10, 9, 8, 7, 6, 5, 4, 3, 2, 1, 0]\n",
      "Os elementos de índice 1 a 9: [1, 2, 3, 4, 5, 6, 7, 8, 9]\n",
      "Somente os elementos de índice ímpar: [1, 3, 5, 7, 9, 11, 13, 15]\n"
     ]
    }
   ],
   "source": [
    "a = [0,1,2,3,4,5,6,7,8,9,10,11,12,13,14,15]\n",
    "print (\"Lista Reversa:\", a[::-1])\n",
    "print (\"Os elementos de índice 1 a 9:\", a[1:10])\n",
    "print (\"Somente os elementos de índice ímpar:\", a[1::2])"
   ]
  },
  {
   "cell_type": "code",
   "execution_count": null,
   "id": "c0298e3d-4d24-404d-8b3d-c6c7f3cf4530",
   "metadata": {},
   "outputs": [],
   "source": []
  }
 ],
 "metadata": {
  "kernelspec": {
   "display_name": "Python 3 (ipykernel)",
   "language": "python",
   "name": "python3"
  },
  "language_info": {
   "codemirror_mode": {
    "name": "ipython",
    "version": 3
   },
   "file_extension": ".py",
   "mimetype": "text/x-python",
   "name": "python",
   "nbconvert_exporter": "python",
   "pygments_lexer": "ipython3",
   "version": "3.11.2"
  }
 },
 "nbformat": 4,
 "nbformat_minor": 5
}
