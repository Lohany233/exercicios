{
 "cells": [
  {
   "cell_type": "code",
   "execution_count": 10,
   "id": "58c92d8f-34c1-4e61-b857-557e547c9fa1",
   "metadata": {},
   "outputs": [
    {
     "name": "stdout",
     "output_type": "stream",
     "text": [
      "      nome          cidade  idade  nota\n",
      "0    Pedro    Porto Alegre     14  83.0\n",
      "1    Maria       São Paulo     13  59.0\n",
      "2  Janaina  Rio de Janeiro     15  86.0\n",
      "3     Wong        Brasília     16  89.0\n",
      "4  Roberto        Salvador     18  98.0\n",
      "5    Marco        Curitiba     13  61.0\n",
      "6    Paula  Belo Horizonte     14  44.0\n"
     ]
    }
   ],
   "source": [
    "import pandas as pd\n",
    "import numpy as np\n",
    "\n",
    "dados ={\n",
    "        'nome':['Pedro','Maria','Janaina','Wong','Roberto','Marco','Paula'],\n",
    "        'cidade':['Porto Alegre','São Paulo','Rio de Janeiro','Brasília','Salvador','Curitiba','Belo Horizonte'],\n",
    "        'idade':[14, 13, 15, 16, 18, 13, 14],\n",
    "        'nota':[83.0, 59.0, 86.0, 89.0, 98.0, 61.0, 44.0],dfAlunos.to_csv(“alunos.csv”, index=False\n",
    "        }\n",
    "dfAlunos=pd.DataFrame(data=dados)\n",
    "print (dfAlunos)"
   ]
  },
  {
   "cell_type": "code",
   "execution_count": null,
   "id": "491bf6b7-2ebd-431d-b495-0c1516f9818c",
   "metadata": {},
   "outputs": [],
   "source": []
  }
 ],
 "metadata": {
  "kernelspec": {
   "display_name": "Python 3 (ipykernel)",
   "language": "python",
   "name": "python3"
  },
  "language_info": {
   "codemirror_mode": {
    "name": "ipython",
    "version": 3
   },
   "file_extension": ".py",
   "mimetype": "text/x-python",
   "name": "python",
   "nbconvert_exporter": "python",
   "pygments_lexer": "ipython3",
   "version": "3.11.2"
  }
 },
 "nbformat": 4,
 "nbformat_minor": 5
}
